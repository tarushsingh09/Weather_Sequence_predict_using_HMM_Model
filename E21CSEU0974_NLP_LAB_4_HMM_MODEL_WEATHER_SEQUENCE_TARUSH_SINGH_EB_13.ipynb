{
  "nbformat": 4,
  "nbformat_minor": 0,
  "metadata": {
    "colab": {
      "provenance": [],
      "authorship_tag": "ABX9TyPALkaj/U7NlB3xknR8PeiV",
      "include_colab_link": true
    },
    "kernelspec": {
      "name": "python3",
      "display_name": "Python 3"
    },
    "language_info": {
      "name": "python"
    },
    "accelerator": "TPU"
  },
  "cells": [
    {
      "cell_type": "markdown",
      "metadata": {
        "id": "view-in-github",
        "colab_type": "text"
      },
      "source": [
        "<a href=\"https://colab.research.google.com/github/tarushsingh09/Weather_Sequence_predict_using_HMM_Model/blob/main/E21CSEU0974_NLP_LAB_4_HMM_MODEL_WEATHER_SEQUENCE_TARUSH_SINGH_EB_13.ipynb\" target=\"_parent\"><img src=\"https://colab.research.google.com/assets/colab-badge.svg\" alt=\"Open In Colab\"/></a>"
      ]
    },
    {
      "cell_type": "markdown",
      "source": [
        "#TARUSH SINGH\n",
        "#E21CSEU0974\n",
        "#EB-13\n",
        "#NLP Lab Assignment – 04: Predict the weather sequence\n",
        "#Objective: In this assignment, you will implement an HMM model to predict the weather\n",
        "#sequence for the given observation sequence.\n",
        "#Task: What is the probability of the observed sequence- 1,3,1 given the parameters of the HMM?\n"
      ],
      "metadata": {
        "id": "Mk9iIgK_Z0aQ"
      }
    },
    {
      "cell_type": "code",
      "source": [
        "import numpy as np\n",
        "\n",
        "# Define the HMM parameters\n",
        "# Number of states\n",
        "num_states = 2\n",
        "\n",
        "# Transition matrix\n",
        "transition_matrix = np.array([\n",
        "    [0.5, 0.5],  # Transition from COLD to [COLD, HOT]\n",
        "    [0.4, 0.6]   # Transition from HOT to [COLD, HOT]\n",
        "])\n",
        "print(\"Transition Matrix:\")\n",
        "print(transition_matrix)"
      ],
      "metadata": {
        "colab": {
          "base_uri": "https://localhost:8080/"
        },
        "id": "ZLEQikg4aggz",
        "outputId": "bf5f2e38-9405-4b87-bc88-22fdc20c4bef"
      },
      "execution_count": 2,
      "outputs": [
        {
          "output_type": "stream",
          "name": "stdout",
          "text": [
            "Transition Matrix:\n",
            "[[0.5 0.5]\n",
            " [0.4 0.6]]\n"
          ]
        }
      ]
    },
    {
      "cell_type": "code",
      "source": [
        "# Emission probabilities\n",
        "emission_probabilities = np.array([\n",
        "    [0.5, 0.4, 0.1],  # COLD state emissions for observations [1, 3, 1]\n",
        "    [0.2, 0.4, 0.4]   # HOT state emissions for observations [1, 3, 1]\n",
        "])\n",
        "print(\"Emission probabilities: \")\n",
        "print(emission_probabilities)"
      ],
      "metadata": {
        "colab": {
          "base_uri": "https://localhost:8080/"
        },
        "id": "vvIXCgD5apuZ",
        "outputId": "5a69419d-1839-4a15-d385-b4c289da6e1e"
      },
      "execution_count": 3,
      "outputs": [
        {
          "output_type": "stream",
          "name": "stdout",
          "text": [
            "Emission probabilities: \n",
            "[[0.5 0.4 0.1]\n",
            " [0.2 0.4 0.4]]\n"
          ]
        }
      ]
    },
    {
      "cell_type": "code",
      "source": [
        "# Initial state probabilities (pi)\n",
        "initial_probabilities = np.array([0.2, 0.8])  # [COLD, HOT]\n",
        "print(\"Initial state probabilities: \")\n",
        "print(initial_probabilities)"
      ],
      "metadata": {
        "colab": {
          "base_uri": "https://localhost:8080/"
        },
        "id": "bfW--8-ZbJk_",
        "outputId": "7c3504eb-6c5a-44ce-911a-e3e42b154d23"
      },
      "execution_count": 4,
      "outputs": [
        {
          "output_type": "stream",
          "name": "stdout",
          "text": [
            "Initial state probabilities: \n",
            "[0.2 0.8]\n"
          ]
        }
      ]
    },
    {
      "cell_type": "code",
      "execution_count": 5,
      "metadata": {
        "colab": {
          "base_uri": "https://localhost:8080/"
        },
        "id": "uiae_nuIUWUh",
        "outputId": "52f846d3-5751-416c-a502-66cb178ac4ef"
      },
      "outputs": [
        {
          "output_type": "stream",
          "name": "stdout",
          "text": [
            "Forward Matrix:\n",
            "[[0.1      0.0114   0.01453 ]\n",
            " [0.16     0.0584   0.008148]]\n",
            "\n",
            "Probability of the Observed Sequence: 0.022678000000000007\n"
          ]
        }
      ],
      "source": [
        "# Observed sequence: 1, 3, 1\n",
        "observed_sequence = [0, 2, 0]  # Assuming 0 represents observation 1, 1 represents observation 2, and 2 represents observation 3\n",
        "\n",
        "def forward_algorithm(observed_sequence, initial_probabilities, transition_matrix, emission_probabilities):\n",
        "    num_states, num_observations = len(initial_probabilities), len(observed_sequence)\n",
        "    forward_matrix = np.zeros((num_states, num_observations))\n",
        "\n",
        "    # Initialization\n",
        "    for state in range(num_states):\n",
        "        forward_matrix[state, 0] = initial_probabilities[state] * emission_probabilities[state, observed_sequence[0]]\n",
        "\n",
        "    # Recursion\n",
        "    for t in range(1, num_observations):\n",
        "        for state in range(num_states):\n",
        "            forward_matrix[state, t] = sum(forward_matrix[prev_state, t - 1] * transition_matrix[prev_state, state] * emission_probabilities[state, observed_sequence[t]]\n",
        "                                           for prev_state in range(num_states))\n",
        "\n",
        "    # Termination\n",
        "    probability = sum(forward_matrix[state, num_observations - 1] for state in range(num_states))\n",
        "\n",
        "    return forward_matrix, probability\n",
        "\n",
        "# Calculate the forward matrix and probability\n",
        "forward_matrix, probability = forward_algorithm(observed_sequence, initial_probabilities, transition_matrix, emission_probabilities)\n",
        "\n",
        "print(\"Forward Matrix:\")\n",
        "print(forward_matrix)\n",
        "print(\"\\nProbability of the Observed Sequence:\", probability)\n"
      ]
    }
  ]
}